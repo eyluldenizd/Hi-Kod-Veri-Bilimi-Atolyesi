{
 "cells": [
  {
   "cell_type": "markdown",
   "metadata": {},
   "source": [
    "### Ödev 1\n",
    "\n",
    "Bir sözlük oluşturulur ve bu sözlükte öğrencilerin isimleri ve Matematik, Fizik, Kimya notları tutulur. Kullanıcıdan isim ve ders ismi(Matematik, Fizik, Kimya) istenir ve bu bilgilere göre çıktı verilir."
   ]
  },
  {
   "cell_type": "code",
   "execution_count": 2,
   "metadata": {},
   "outputs": [
    {
     "name": "stdout",
     "output_type": "stream",
     "text": [
      "Eylül's Physic grade is: 85\n"
     ]
    }
   ],
   "source": [
    "students = {\"Eylül\":  {     \"Math\": 80,\n",
    "                           \"Physic\":85,\n",
    "                           \"Chemistry\":92},\n",
    "            \"Taylor\"   :  {   \"Math\": 80,\n",
    "                           \"Physic\":92,\n",
    "                           \"Chemistry\":75 },\n",
    "            \"Doğukan\"  :   {  \"Math\": 100,\n",
    "                           \"Physic\":76,\n",
    "                           \"Chemistry\":97},\n",
    "            \"Deniz\"  :   {  \"Math\": 100,\n",
    "                           \"Physic\":78,\n",
    "                           \"Chemistry\":87}}\n",
    "name = input(\"Please enter the name of the student you want to view ? : \")\n",
    "course = input(\"Which course  do you want to view ? : \")\n",
    "\n",
    "if name in students :\n",
    "    if course in students[name]:\n",
    "        print(f\"{name}'s {course} grade is: {students[name][course]}\")\n",
    "    else:\n",
    "        print(f\"{course} is not a valid course.\")\n",
    "else:\n",
    "    print(f\"Student named {name} is not found.\")"
   ]
  },
  {
   "cell_type": "markdown",
   "metadata": {},
   "source": [
    "### Ödev 2\n",
    "\n",
    "Sözlük üzerinde değerleri değiştirme, yeni değer ekleme, kullanıcıya ulaşmak istediği bilgileri sorma gibi uygulamalar yapın."
   ]
  },
  {
   "cell_type": "code",
   "execution_count": 4,
   "metadata": {},
   "outputs": [
    {
     "data": {
      "text/plain": [
       "{'Eylül': {'Math': 97, 'Physic': 85, 'Chemistry': 92},\n",
       " 'Taylor': {'Math': 95, 'Physic': 92, 'Chemistry': 75},\n",
       " 'Doğukan': {'Math': 100, 'Physic': 76, 'Chemistry': 97},\n",
       " 'Deniz': {'Math': 100, 'Physic': 78, 'Chemistry': 87}}"
      ]
     },
     "execution_count": 4,
     "metadata": {},
     "output_type": "execute_result"
    }
   ],
   "source": [
    "students = {\"Eylül\":  {     \"Math\": 80,\n",
    "                           \"Physic\":85,\n",
    "                           \"Chemistry\":92},\n",
    "            \"Taylor\"   :  {   \"Math\": 95,\n",
    "                           \"Physic\":92,\n",
    "                           \"Chemistry\":75 },\n",
    "            \"Doğukan\"  :   {  \"Math\": 100,\n",
    "                           \"Physic\":76,\n",
    "                           \"Chemistry\":97},\n",
    "            \"Deniz\"  :   {  \"Math\": 100,\n",
    "                           \"Physic\":78,\n",
    "                           \"Chemistry\":87}}\n",
    "\n",
    "students [\"Eylül\"][\"Math\"] =97\n",
    "\n",
    "students"
   ]
  },
  {
   "cell_type": "code",
   "execution_count": 5,
   "metadata": {},
   "outputs": [
    {
     "data": {
      "text/plain": [
       "{'Eylül': {'Math': 97, 'Physic': 85, 'Chemistry': 92},\n",
       " 'Taylor': {'Math': 95, 'Physic': 92, 'Chemistry': 75},\n",
       " 'Doğukan': {'Math': 100, 'Physic': 76, 'Chemistry': 97},\n",
       " 'Deniz': {'Math': 100, 'Physic': 78, 'Chemistry': 87},\n",
       " 'Alison': {'Math': 85, 'Physic': 88, 'Chemistry': 90}}"
      ]
     },
     "execution_count": 5,
     "metadata": {},
     "output_type": "execute_result"
    }
   ],
   "source": [
    "students [\"Alison\"] = {\"Math\": 85, \n",
    "                      \"Physic\": 88, \n",
    "                      \"Chemistry\": 90}\n",
    "\n",
    "students"
   ]
  },
  {
   "cell_type": "code",
   "execution_count": 8,
   "metadata": {},
   "outputs": [
    {
     "name": "stdout",
     "output_type": "stream",
     "text": [
      "Taylor's Math grade is: 95\n"
     ]
    }
   ],
   "source": [
    "name = input(\"Please enter the name of the student you want to view ? : \")\n",
    "course = input(\"Which course  do you want to view ? : \")\n",
    "\n",
    "if name in students :\n",
    "    if course in students[name]:\n",
    "        print(f\"{name}'s {course} grade is: {students[name][course]}\")\n",
    "    else:\n",
    "        print(f\"{course} is not a valid course.\")\n",
    "else:\n",
    "    print(f\"Student named {name} is not found.\")"
   ]
  }
 ],
 "metadata": {
  "kernelspec": {
   "display_name": "Python 3",
   "language": "python",
   "name": "python3"
  },
  "language_info": {
   "codemirror_mode": {
    "name": "ipython",
    "version": 3
   },
   "file_extension": ".py",
   "mimetype": "text/x-python",
   "name": "python",
   "nbconvert_exporter": "python",
   "pygments_lexer": "ipython3",
   "version": "3.12.2"
  }
 },
 "nbformat": 4,
 "nbformat_minor": 2
}
