{
 "cells": [
  {
   "cell_type": "code",
   "execution_count": 11,
   "metadata": {},
   "outputs": [],
   "source": [
    "import pandas as pd\n",
    "import numpy as np\n",
    "import matplotlib.pyplot as plt\n",
    "import seaborn as sns\n",
    "import plotly.express as px"
   ]
  },
  {
   "cell_type": "code",
   "execution_count": 12,
   "metadata": {},
   "outputs": [
    {
     "data": {
      "text/html": [
       "<div>\n",
       "<style scoped>\n",
       "    .dataframe tbody tr th:only-of-type {\n",
       "        vertical-align: middle;\n",
       "    }\n",
       "\n",
       "    .dataframe tbody tr th {\n",
       "        vertical-align: top;\n",
       "    }\n",
       "\n",
       "    .dataframe thead th {\n",
       "        text-align: right;\n",
       "    }\n",
       "</style>\n",
       "<table border=\"1\" class=\"dataframe\">\n",
       "  <thead>\n",
       "    <tr style=\"text-align: right;\">\n",
       "      <th></th>\n",
       "      <th>Rank</th>\n",
       "      <th>Title</th>\n",
       "      <th>Type</th>\n",
       "      <th>Premiere</th>\n",
       "      <th>Genre</th>\n",
       "      <th>Watchtime</th>\n",
       "      <th>Watchtime in Million</th>\n",
       "    </tr>\n",
       "  </thead>\n",
       "  <tbody>\n",
       "    <tr>\n",
       "      <th>0</th>\n",
       "      <td>1.0</td>\n",
       "      <td>The Night Agent</td>\n",
       "      <td>TV Show</td>\n",
       "      <td>2023.0</td>\n",
       "      <td>Action</td>\n",
       "      <td>812,100,000</td>\n",
       "      <td>812.1M</td>\n",
       "    </tr>\n",
       "    <tr>\n",
       "      <th>1</th>\n",
       "      <td>2.0</td>\n",
       "      <td>Ginny &amp; Georgia</td>\n",
       "      <td>TV Show</td>\n",
       "      <td>2021.0</td>\n",
       "      <td>Drama</td>\n",
       "      <td>665,100,000</td>\n",
       "      <td>665.1M</td>\n",
       "    </tr>\n",
       "    <tr>\n",
       "      <th>2</th>\n",
       "      <td>3.0</td>\n",
       "      <td>The Glory</td>\n",
       "      <td>TV Show</td>\n",
       "      <td>2022.0</td>\n",
       "      <td>Thriller</td>\n",
       "      <td>622,800,000</td>\n",
       "      <td>622.8M</td>\n",
       "    </tr>\n",
       "    <tr>\n",
       "      <th>3</th>\n",
       "      <td>4.0</td>\n",
       "      <td>Wednesday</td>\n",
       "      <td>TV Show</td>\n",
       "      <td>2022.0</td>\n",
       "      <td>Fantasy</td>\n",
       "      <td>507,700,000</td>\n",
       "      <td>507.7M</td>\n",
       "    </tr>\n",
       "    <tr>\n",
       "      <th>4</th>\n",
       "      <td>5.0</td>\n",
       "      <td>Queen Charlotte: A Bridgerton Story</td>\n",
       "      <td>TV Show</td>\n",
       "      <td>2023.0</td>\n",
       "      <td>Drama</td>\n",
       "      <td>503,000,000</td>\n",
       "      <td>503.0M</td>\n",
       "    </tr>\n",
       "  </tbody>\n",
       "</table>\n",
       "</div>"
      ],
      "text/plain": [
       "   Rank                                Title     Type  Premiere     Genre  \\\n",
       "0   1.0                      The Night Agent  TV Show    2023.0    Action   \n",
       "1   2.0                      Ginny & Georgia  TV Show    2021.0     Drama   \n",
       "2   3.0                            The Glory  TV Show    2022.0  Thriller   \n",
       "3   4.0                            Wednesday  TV Show    2022.0   Fantasy   \n",
       "4   5.0  Queen Charlotte: A Bridgerton Story  TV Show    2023.0     Drama   \n",
       "\n",
       "     Watchtime Watchtime in Million  \n",
       "0  812,100,000               812.1M  \n",
       "1  665,100,000               665.1M  \n",
       "2  622,800,000               622.8M  \n",
       "3  507,700,000               507.7M  \n",
       "4  503,000,000               503.0M  "
      ]
     },
     "execution_count": 12,
     "metadata": {},
     "output_type": "execute_result"
    }
   ],
   "source": [
    "data =pd.read_excel(\"flixpatroll.xlsx\")\n",
    "data.head()"
   ]
  },
  {
   "cell_type": "code",
   "execution_count": 14,
   "metadata": {},
   "outputs": [
    {
     "name": "stdout",
     "output_type": "stream",
     "text": [
      "<class 'pandas.core.frame.DataFrame'>\n",
      "RangeIndex: 18164 entries, 0 to 18163\n",
      "Data columns (total 7 columns):\n",
      " #   Column                Non-Null Count  Dtype  \n",
      "---  ------                --------------  -----  \n",
      " 0   Rank                  18164 non-null  float64\n",
      " 1   Title                 18164 non-null  object \n",
      " 2   Type                  18164 non-null  object \n",
      " 3   Premiere              18030 non-null  float64\n",
      " 4   Genre                 17984 non-null  object \n",
      " 5   Watchtime             18164 non-null  object \n",
      " 6   Watchtime in Million  18164 non-null  object \n",
      "dtypes: float64(2), object(5)\n",
      "memory usage: 993.5+ KB\n"
     ]
    }
   ],
   "source": [
    "data.info()"
   ]
  },
  {
   "cell_type": "code",
   "execution_count": 15,
   "metadata": {},
   "outputs": [
    {
     "data": {
      "text/html": [
       "<div>\n",
       "<style scoped>\n",
       "    .dataframe tbody tr th:only-of-type {\n",
       "        vertical-align: middle;\n",
       "    }\n",
       "\n",
       "    .dataframe tbody tr th {\n",
       "        vertical-align: top;\n",
       "    }\n",
       "\n",
       "    .dataframe thead th {\n",
       "        text-align: right;\n",
       "    }\n",
       "</style>\n",
       "<table border=\"1\" class=\"dataframe\">\n",
       "  <thead>\n",
       "    <tr style=\"text-align: right;\">\n",
       "      <th></th>\n",
       "      <th>Rank</th>\n",
       "      <th>Title</th>\n",
       "      <th>Type</th>\n",
       "      <th>Premiere</th>\n",
       "      <th>Genre</th>\n",
       "      <th>Watchtime</th>\n",
       "      <th>Watchtime in Million</th>\n",
       "    </tr>\n",
       "  </thead>\n",
       "  <tbody>\n",
       "    <tr>\n",
       "      <th>0</th>\n",
       "      <td>1</td>\n",
       "      <td>The Night Agent</td>\n",
       "      <td>TV Show</td>\n",
       "      <td>2023</td>\n",
       "      <td>Action</td>\n",
       "      <td>812,100,000</td>\n",
       "      <td>812.1M</td>\n",
       "    </tr>\n",
       "    <tr>\n",
       "      <th>1</th>\n",
       "      <td>2</td>\n",
       "      <td>Ginny &amp; Georgia</td>\n",
       "      <td>TV Show</td>\n",
       "      <td>2021</td>\n",
       "      <td>Drama</td>\n",
       "      <td>665,100,000</td>\n",
       "      <td>665.1M</td>\n",
       "    </tr>\n",
       "    <tr>\n",
       "      <th>2</th>\n",
       "      <td>3</td>\n",
       "      <td>The Glory</td>\n",
       "      <td>TV Show</td>\n",
       "      <td>2022</td>\n",
       "      <td>Thriller</td>\n",
       "      <td>622,800,000</td>\n",
       "      <td>622.8M</td>\n",
       "    </tr>\n",
       "    <tr>\n",
       "      <th>3</th>\n",
       "      <td>4</td>\n",
       "      <td>Wednesday</td>\n",
       "      <td>TV Show</td>\n",
       "      <td>2022</td>\n",
       "      <td>Fantasy</td>\n",
       "      <td>507,700,000</td>\n",
       "      <td>507.7M</td>\n",
       "    </tr>\n",
       "    <tr>\n",
       "      <th>4</th>\n",
       "      <td>5</td>\n",
       "      <td>Queen Charlotte: A Bridgerton Story</td>\n",
       "      <td>TV Show</td>\n",
       "      <td>2023</td>\n",
       "      <td>Drama</td>\n",
       "      <td>503,000,000</td>\n",
       "      <td>503.0M</td>\n",
       "    </tr>\n",
       "  </tbody>\n",
       "</table>\n",
       "</div>"
      ],
      "text/plain": [
       "   Rank                                Title     Type  Premiere     Genre  \\\n",
       "0     1                      The Night Agent  TV Show      2023    Action   \n",
       "1     2                      Ginny & Georgia  TV Show      2021     Drama   \n",
       "2     3                            The Glory  TV Show      2022  Thriller   \n",
       "3     4                            Wednesday  TV Show      2022   Fantasy   \n",
       "4     5  Queen Charlotte: A Bridgerton Story  TV Show      2023     Drama   \n",
       "\n",
       "     Watchtime Watchtime in Million  \n",
       "0  812,100,000               812.1M  \n",
       "1  665,100,000               665.1M  \n",
       "2  622,800,000               622.8M  \n",
       "3  507,700,000               507.7M  \n",
       "4  503,000,000               503.0M  "
      ]
     },
     "execution_count": 15,
     "metadata": {},
     "output_type": "execute_result"
    }
   ],
   "source": [
    "data[\"Premiere\"] = data[\"Premiere\"].astype(\"Int64\")\n",
    "data[\"Rank\"] = data [\"Rank\"].astype(\"Int64\")\n",
    "data.head()\n"
   ]
  },
  {
   "cell_type": "code",
   "execution_count": 16,
   "metadata": {},
   "outputs": [
    {
     "name": "stdout",
     "output_type": "stream",
     "text": [
      "<class 'pandas.core.frame.DataFrame'>\n",
      "RangeIndex: 18164 entries, 0 to 18163\n",
      "Data columns (total 7 columns):\n",
      " #   Column                Non-Null Count  Dtype \n",
      "---  ------                --------------  ----- \n",
      " 0   Rank                  18164 non-null  Int64 \n",
      " 1   Title                 18164 non-null  object\n",
      " 2   Type                  18164 non-null  object\n",
      " 3   Premiere              18030 non-null  Int64 \n",
      " 4   Genre                 17984 non-null  object\n",
      " 5   Watchtime             18164 non-null  object\n",
      " 6   Watchtime in Million  18164 non-null  object\n",
      "dtypes: Int64(2), object(5)\n",
      "memory usage: 1.0+ MB\n"
     ]
    }
   ],
   "source": [
    "data.info()"
   ]
  },
  {
   "cell_type": "code",
   "execution_count": 17,
   "metadata": {},
   "outputs": [
    {
     "data": {
      "text/plain": [
       "Index(['Rank', 'Title', 'Type', 'Premiere', 'Genre', 'Watchtime',\n",
       "       'Watchtime in Million'],\n",
       "      dtype='object')"
      ]
     },
     "execution_count": 17,
     "metadata": {},
     "output_type": "execute_result"
    }
   ],
   "source": [
    "data.columns"
   ]
  },
  {
   "cell_type": "code",
   "execution_count": 18,
   "metadata": {},
   "outputs": [
    {
     "data": {
      "text/plain": [
       "Rank                      0\n",
       "Title                     0\n",
       "Type                      0\n",
       "Premiere                134\n",
       "Genre                   180\n",
       "Watchtime                 0\n",
       "Watchtime in Million      0\n",
       "dtype: int64"
      ]
     },
     "execution_count": 18,
     "metadata": {},
     "output_type": "execute_result"
    }
   ],
   "source": [
    "data.isnull().sum()"
   ]
  },
  {
   "cell_type": "code",
   "execution_count": 19,
   "metadata": {},
   "outputs": [
    {
     "data": {
      "text/html": [
       "<div>\n",
       "<style scoped>\n",
       "    .dataframe tbody tr th:only-of-type {\n",
       "        vertical-align: middle;\n",
       "    }\n",
       "\n",
       "    .dataframe tbody tr th {\n",
       "        vertical-align: top;\n",
       "    }\n",
       "\n",
       "    .dataframe thead th {\n",
       "        text-align: right;\n",
       "    }\n",
       "</style>\n",
       "<table border=\"1\" class=\"dataframe\">\n",
       "  <thead>\n",
       "    <tr style=\"text-align: right;\">\n",
       "      <th></th>\n",
       "      <th>Rank</th>\n",
       "      <th>Title</th>\n",
       "      <th>Type</th>\n",
       "      <th>Premiere</th>\n",
       "      <th>Genre</th>\n",
       "      <th>Watchtime</th>\n",
       "      <th>Watchtime in Million</th>\n",
       "    </tr>\n",
       "  </thead>\n",
       "  <tbody>\n",
       "    <tr>\n",
       "      <th>0</th>\n",
       "      <td>1</td>\n",
       "      <td>The Night Agent</td>\n",
       "      <td>TV Show</td>\n",
       "      <td>2023</td>\n",
       "      <td>Action</td>\n",
       "      <td>812,100,000</td>\n",
       "      <td>812.1M</td>\n",
       "    </tr>\n",
       "    <tr>\n",
       "      <th>1</th>\n",
       "      <td>2</td>\n",
       "      <td>Ginny &amp; Georgia</td>\n",
       "      <td>TV Show</td>\n",
       "      <td>2021</td>\n",
       "      <td>Drama</td>\n",
       "      <td>665,100,000</td>\n",
       "      <td>665.1M</td>\n",
       "    </tr>\n",
       "    <tr>\n",
       "      <th>2</th>\n",
       "      <td>3</td>\n",
       "      <td>The Glory</td>\n",
       "      <td>TV Show</td>\n",
       "      <td>2022</td>\n",
       "      <td>Thriller</td>\n",
       "      <td>622,800,000</td>\n",
       "      <td>622.8M</td>\n",
       "    </tr>\n",
       "    <tr>\n",
       "      <th>3</th>\n",
       "      <td>4</td>\n",
       "      <td>Wednesday</td>\n",
       "      <td>TV Show</td>\n",
       "      <td>2022</td>\n",
       "      <td>Fantasy</td>\n",
       "      <td>507,700,000</td>\n",
       "      <td>507.7M</td>\n",
       "    </tr>\n",
       "    <tr>\n",
       "      <th>4</th>\n",
       "      <td>5</td>\n",
       "      <td>Queen Charlotte: A Bridgerton Story</td>\n",
       "      <td>TV Show</td>\n",
       "      <td>2023</td>\n",
       "      <td>Drama</td>\n",
       "      <td>503,000,000</td>\n",
       "      <td>503.0M</td>\n",
       "    </tr>\n",
       "  </tbody>\n",
       "</table>\n",
       "</div>"
      ],
      "text/plain": [
       "   Rank                                Title     Type  Premiere     Genre  \\\n",
       "0     1                      The Night Agent  TV Show      2023    Action   \n",
       "1     2                      Ginny & Georgia  TV Show      2021     Drama   \n",
       "2     3                            The Glory  TV Show      2022  Thriller   \n",
       "3     4                            Wednesday  TV Show      2022   Fantasy   \n",
       "4     5  Queen Charlotte: A Bridgerton Story  TV Show      2023     Drama   \n",
       "\n",
       "     Watchtime Watchtime in Million  \n",
       "0  812,100,000               812.1M  \n",
       "1  665,100,000               665.1M  \n",
       "2  622,800,000               622.8M  \n",
       "3  507,700,000               507.7M  \n",
       "4  503,000,000               503.0M  "
      ]
     },
     "execution_count": 19,
     "metadata": {},
     "output_type": "execute_result"
    }
   ],
   "source": [
    "df= data.dropna()\n",
    "df.head()"
   ]
  },
  {
   "cell_type": "code",
   "execution_count": 20,
   "metadata": {},
   "outputs": [
    {
     "data": {
      "text/plain": [
       "Rank                    0\n",
       "Title                   0\n",
       "Type                    0\n",
       "Premiere                0\n",
       "Genre                   0\n",
       "Watchtime               0\n",
       "Watchtime in Million    0\n",
       "dtype: int64"
      ]
     },
     "execution_count": 20,
     "metadata": {},
     "output_type": "execute_result"
    }
   ],
   "source": [
    "df.isnull().sum()"
   ]
  },
  {
   "cell_type": "code",
   "execution_count": 21,
   "metadata": {},
   "outputs": [
    {
     "data": {
      "text/plain": [
       "array(['TV Show', 'Movie'], dtype=object)"
      ]
     },
     "execution_count": 21,
     "metadata": {},
     "output_type": "execute_result"
    }
   ],
   "source": [
    "df[\"Type\"].unique()"
   ]
  },
  {
   "cell_type": "code",
   "execution_count": 22,
   "metadata": {},
   "outputs": [
    {
     "data": {
      "text/plain": [
       "array(['Action', 'Drama', 'Thriller', 'Fantasy', 'Crime', 'Reality-Show',\n",
       "       'Comedy', 'History', 'Superhero', 'Animation', 'Science Fiction',\n",
       "       'Horror', 'Adventure', 'Documentary', 'War', 'Musical', 'Romance',\n",
       "       'Family', 'Stand-Up', 'Western', 'Sports', 'Biography',\n",
       "       'Talk Show', 'Game-Show', 'Broadcast', 'Concerts', 'News',\n",
       "       'Fairy Tale'], dtype=object)"
      ]
     },
     "execution_count": 22,
     "metadata": {},
     "output_type": "execute_result"
    }
   ],
   "source": [
    "df[\"Genre\"].unique()"
   ]
  },
  {
   "cell_type": "code",
   "execution_count": 23,
   "metadata": {},
   "outputs": [
    {
     "data": {
      "text/plain": [
       "<IntegerArray>\n",
       "[2023, 2021, 2022, 2018, 2011, 2020, 2012, 2013, 2010, 2016, 2003, 2019, 2008,\n",
       " 2017, 2000, 2004, 2015, 2014, 2009, 1996, 2005, 1994, 2007, 2001, 1989, 1997,\n",
       " 2006, 2002, 1993, 1999, 1995, 1972, 1983, 1978, 1998, 1974, 1986, 1988, 1991,\n",
       " 1976, 1985, 1987, 1992, 1977, 1990, 1979, 1973, 1982, 1966, 1984, 1980, 1975,\n",
       " 1940, 1963, 1970, 1981, 1964, 1960, 1971, 1968, 1969, 1962, 1954, 1961, 1953,\n",
       " 1957, 1956, 1958, 1965, 1951, 1955, 1967, 1952]\n",
       "Length: 73, dtype: Int64"
      ]
     },
     "execution_count": 23,
     "metadata": {},
     "output_type": "execute_result"
    }
   ],
   "source": [
    "df[\"Premiere\"].unique()"
   ]
  },
  {
   "cell_type": "code",
   "execution_count": 24,
   "metadata": {},
   "outputs": [
    {
     "data": {
      "text/html": [
       "<div>\n",
       "<style scoped>\n",
       "    .dataframe tbody tr th:only-of-type {\n",
       "        vertical-align: middle;\n",
       "    }\n",
       "\n",
       "    .dataframe tbody tr th {\n",
       "        vertical-align: top;\n",
       "    }\n",
       "\n",
       "    .dataframe thead th {\n",
       "        text-align: right;\n",
       "    }\n",
       "</style>\n",
       "<table border=\"1\" class=\"dataframe\">\n",
       "  <thead>\n",
       "    <tr style=\"text-align: right;\">\n",
       "      <th></th>\n",
       "      <th>Rank</th>\n",
       "      <th>Title</th>\n",
       "      <th>Type</th>\n",
       "      <th>Premiere</th>\n",
       "      <th>Genre</th>\n",
       "      <th>Watchtime</th>\n",
       "      <th>Watchtime in Million</th>\n",
       "    </tr>\n",
       "  </thead>\n",
       "  <tbody>\n",
       "    <tr>\n",
       "      <th>0</th>\n",
       "      <td>1</td>\n",
       "      <td>The Night Agent</td>\n",
       "      <td>TV Show</td>\n",
       "      <td>2023</td>\n",
       "      <td>Action</td>\n",
       "      <td>812,100,000</td>\n",
       "      <td>812.1M</td>\n",
       "    </tr>\n",
       "    <tr>\n",
       "      <th>1</th>\n",
       "      <td>2</td>\n",
       "      <td>Ginny &amp; Georgia</td>\n",
       "      <td>TV Show</td>\n",
       "      <td>2021</td>\n",
       "      <td>Drama</td>\n",
       "      <td>665,100,000</td>\n",
       "      <td>665.1M</td>\n",
       "    </tr>\n",
       "    <tr>\n",
       "      <th>2</th>\n",
       "      <td>3</td>\n",
       "      <td>The Glory</td>\n",
       "      <td>TV Show</td>\n",
       "      <td>2022</td>\n",
       "      <td>Thriller</td>\n",
       "      <td>622,800,000</td>\n",
       "      <td>622.8M</td>\n",
       "    </tr>\n",
       "    <tr>\n",
       "      <th>3</th>\n",
       "      <td>4</td>\n",
       "      <td>Wednesday</td>\n",
       "      <td>TV Show</td>\n",
       "      <td>2022</td>\n",
       "      <td>Fantasy</td>\n",
       "      <td>507,700,000</td>\n",
       "      <td>507.7M</td>\n",
       "    </tr>\n",
       "    <tr>\n",
       "      <th>4</th>\n",
       "      <td>5</td>\n",
       "      <td>Queen Charlotte: A Bridgerton Story</td>\n",
       "      <td>TV Show</td>\n",
       "      <td>2023</td>\n",
       "      <td>Drama</td>\n",
       "      <td>503,000,000</td>\n",
       "      <td>503.0M</td>\n",
       "    </tr>\n",
       "  </tbody>\n",
       "</table>\n",
       "</div>"
      ],
      "text/plain": [
       "   Rank                                Title     Type  Premiere     Genre  \\\n",
       "0     1                      The Night Agent  TV Show      2023    Action   \n",
       "1     2                      Ginny & Georgia  TV Show      2021     Drama   \n",
       "2     3                            The Glory  TV Show      2022  Thriller   \n",
       "3     4                            Wednesday  TV Show      2022   Fantasy   \n",
       "4     5  Queen Charlotte: A Bridgerton Story  TV Show      2023     Drama   \n",
       "\n",
       "     Watchtime Watchtime in Million  \n",
       "0  812,100,000               812.1M  \n",
       "1  665,100,000               665.1M  \n",
       "2  622,800,000               622.8M  \n",
       "3  507,700,000               507.7M  \n",
       "4  503,000,000               503.0M  "
      ]
     },
     "execution_count": 24,
     "metadata": {},
     "output_type": "execute_result"
    }
   ],
   "source": [
    "df.head()"
   ]
  },
  {
   "cell_type": "code",
   "execution_count": 25,
   "metadata": {},
   "outputs": [
    {
     "data": {
      "text/html": [
       "<div>\n",
       "<style scoped>\n",
       "    .dataframe tbody tr th:only-of-type {\n",
       "        vertical-align: middle;\n",
       "    }\n",
       "\n",
       "    .dataframe tbody tr th {\n",
       "        vertical-align: top;\n",
       "    }\n",
       "\n",
       "    .dataframe thead th {\n",
       "        text-align: right;\n",
       "    }\n",
       "</style>\n",
       "<table border=\"1\" class=\"dataframe\">\n",
       "  <thead>\n",
       "    <tr style=\"text-align: right;\">\n",
       "      <th></th>\n",
       "      <th>Type</th>\n",
       "      <th>Watchtime</th>\n",
       "    </tr>\n",
       "  </thead>\n",
       "  <tbody>\n",
       "    <tr>\n",
       "      <th>0</th>\n",
       "      <td>Movie</td>\n",
       "      <td>249,900,000209,700,000201,800,000181,800,00017...</td>\n",
       "    </tr>\n",
       "    <tr>\n",
       "      <th>1</th>\n",
       "      <td>TV Show</td>\n",
       "      <td>812,100,000665,100,000622,800,000507,700,00050...</td>\n",
       "    </tr>\n",
       "  </tbody>\n",
       "</table>\n",
       "</div>"
      ],
      "text/plain": [
       "      Type                                          Watchtime\n",
       "0    Movie  249,900,000209,700,000201,800,000181,800,00017...\n",
       "1  TV Show  812,100,000665,100,000622,800,000507,700,00050..."
      ]
     },
     "execution_count": 25,
     "metadata": {},
     "output_type": "execute_result"
    }
   ],
   "source": [
    "type_average=df.groupby(\"Type\")[[\"Watchtime\"]].sum().round().reset_index()\n",
    "type_average"
   ]
  },
  {
   "cell_type": "code",
   "execution_count": 26,
   "metadata": {},
   "outputs": [
    {
     "data": {
      "text/html": [
       "<div>\n",
       "<style scoped>\n",
       "    .dataframe tbody tr th:only-of-type {\n",
       "        vertical-align: middle;\n",
       "    }\n",
       "\n",
       "    .dataframe tbody tr th {\n",
       "        vertical-align: top;\n",
       "    }\n",
       "\n",
       "    .dataframe thead th {\n",
       "        text-align: right;\n",
       "    }\n",
       "</style>\n",
       "<table border=\"1\" class=\"dataframe\">\n",
       "  <thead>\n",
       "    <tr style=\"text-align: right;\">\n",
       "      <th></th>\n",
       "      <th>Type</th>\n",
       "      <th>Rank</th>\n",
       "    </tr>\n",
       "  </thead>\n",
       "  <tbody>\n",
       "    <tr>\n",
       "      <th>0</th>\n",
       "      <td>Movie</td>\n",
       "      <td>10666.579036</td>\n",
       "    </tr>\n",
       "    <tr>\n",
       "      <th>1</th>\n",
       "      <td>TV Show</td>\n",
       "      <td>6649.615385</td>\n",
       "    </tr>\n",
       "  </tbody>\n",
       "</table>\n",
       "</div>"
      ],
      "text/plain": [
       "      Type          Rank\n",
       "0    Movie  10666.579036\n",
       "1  TV Show   6649.615385"
      ]
     },
     "execution_count": 26,
     "metadata": {},
     "output_type": "execute_result"
    }
   ],
   "source": [
    "rank_average=df.groupby(\"Type\")[[\"Rank\"]].mean().reset_index()\n",
    "rank_average"
   ]
  },
  {
   "cell_type": "code",
   "execution_count": 27,
   "metadata": {},
   "outputs": [
    {
     "data": {
      "text/plain": [
       "Text(0.5, 1.0, 'Rank Average of Types')"
      ]
     },
     "execution_count": 27,
     "metadata": {},
     "output_type": "execute_result"
    },
    {
     "data": {
      "image/png": "[encoded data removed]",
      "text/plain": [
       "<Figure size 500x200 with 1 Axes>"
      ]
     },
     "metadata": {},
     "output_type": "display_data"
    }
   ],
   "source": [
    "plt.figure(figsize=(5,2))\n",
    "sns.barplot(x = \"Type\",y=\"Rank\",data=rank_average)\n",
    "plt.xlabel(\"Type\")\n",
    "plt.ylabel(\"Rank\")\n",
    "plt.title(\"Rank Average of Types\")"
   ]
  },
  {
   "cell_type": "code",
   "execution_count": 29,
   "metadata": {},
   "outputs": [
    {
     "data": {
      "text/html": [
       "<div>\n",
       "<style scoped>\n",
       "    .dataframe tbody tr th:only-of-type {\n",
       "        vertical-align: middle;\n",
       "    }\n",
       "\n",
       "    .dataframe tbody tr th {\n",
       "        vertical-align: top;\n",
       "    }\n",
       "\n",
       "    .dataframe thead th {\n",
       "        text-align: right;\n",
       "    }\n",
       "</style>\n",
       "<table border=\"1\" class=\"dataframe\">\n",
       "  <thead>\n",
       "    <tr style=\"text-align: right;\">\n",
       "      <th></th>\n",
       "      <th>Rank</th>\n",
       "      <th>Title</th>\n",
       "      <th>Type</th>\n",
       "      <th>Premiere</th>\n",
       "      <th>Genre</th>\n",
       "      <th>Watchtime</th>\n",
       "      <th>Watchtime in Million</th>\n",
       "    </tr>\n",
       "  </thead>\n",
       "  <tbody>\n",
       "    <tr>\n",
       "      <th>0</th>\n",
       "      <td>1</td>\n",
       "      <td>The Night Agent</td>\n",
       "      <td>TV Show</td>\n",
       "      <td>2023</td>\n",
       "      <td>Action</td>\n",
       "      <td>812,100,000</td>\n",
       "      <td>812.1M</td>\n",
       "    </tr>\n",
       "    <tr>\n",
       "      <th>1</th>\n",
       "      <td>2</td>\n",
       "      <td>Ginny &amp; Georgia</td>\n",
       "      <td>TV Show</td>\n",
       "      <td>2021</td>\n",
       "      <td>Drama</td>\n",
       "      <td>665,100,000</td>\n",
       "      <td>665.1M</td>\n",
       "    </tr>\n",
       "    <tr>\n",
       "      <th>2</th>\n",
       "      <td>3</td>\n",
       "      <td>The Glory</td>\n",
       "      <td>TV Show</td>\n",
       "      <td>2022</td>\n",
       "      <td>Thriller</td>\n",
       "      <td>622,800,000</td>\n",
       "      <td>622.8M</td>\n",
       "    </tr>\n",
       "    <tr>\n",
       "      <th>3</th>\n",
       "      <td>4</td>\n",
       "      <td>Wednesday</td>\n",
       "      <td>TV Show</td>\n",
       "      <td>2022</td>\n",
       "      <td>Fantasy</td>\n",
       "      <td>507,700,000</td>\n",
       "      <td>507.7M</td>\n",
       "    </tr>\n",
       "    <tr>\n",
       "      <th>4</th>\n",
       "      <td>5</td>\n",
       "      <td>Queen Charlotte: A Bridgerton Story</td>\n",
       "      <td>TV Show</td>\n",
       "      <td>2023</td>\n",
       "      <td>Drama</td>\n",
       "      <td>503,000,000</td>\n",
       "      <td>503.0M</td>\n",
       "    </tr>\n",
       "  </tbody>\n",
       "</table>\n",
       "</div>"
      ],
      "text/plain": [
       "   Rank                                Title     Type  Premiere     Genre  \\\n",
       "0     1                      The Night Agent  TV Show      2023    Action   \n",
       "1     2                      Ginny & Georgia  TV Show      2021     Drama   \n",
       "2     3                            The Glory  TV Show      2022  Thriller   \n",
       "3     4                            Wednesday  TV Show      2022   Fantasy   \n",
       "4     5  Queen Charlotte: A Bridgerton Story  TV Show      2023     Drama   \n",
       "\n",
       "     Watchtime Watchtime in Million  \n",
       "0  812,100,000               812.1M  \n",
       "1  665,100,000               665.1M  \n",
       "2  622,800,000               622.8M  \n",
       "3  507,700,000               507.7M  \n",
       "4  503,000,000               503.0M  "
      ]
     },
     "execution_count": 29,
     "metadata": {},
     "output_type": "execute_result"
    }
   ],
   "source": [
    "df.head()"
   ]
  },
  {
   "cell_type": "code",
   "execution_count": 36,
   "metadata": {},
   "outputs": [
    {
     "data": {
      "image/png": "[encoded data removed]",
      "text/plain": [
       "<Figure size 1200x800 with 1 Axes>"
      ]
     },
     "metadata": {},
     "output_type": "display_data"
    }
   ],
   "source": [
    "plt.figure(figsize=(12, 8))\n",
    "sns.boxplot(x='Genre', y='Rank', data=df)\n",
    "plt.title('Rank Distribution by Genre')\n",
    "plt.xlabel('Genre')\n",
    "plt.ylabel('Rank')\n",
    "plt.xticks(rotation=90)\n",
    "plt.show()\n"
   ]
  }
 ],
 "metadata": {
  "kernelspec": {
   "display_name": "Python 3",
   "language": "python",
   "name": "python3"
  },
  "language_info": {
   "codemirror_mode": {
    "name": "ipython",
    "version": 3
   },
   "file_extension": ".py",
   "mimetype": "text/x-python",
   "name": "python",
   "nbconvert_exporter": "python",
   "pygments_lexer": "ipython3",
   "version": "3.12.3"
  }
 },
 "nbformat": 4,
 "nbformat_minor": 2
}
