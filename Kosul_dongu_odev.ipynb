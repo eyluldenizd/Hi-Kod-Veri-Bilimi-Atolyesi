{
 "cells": [
  {
   "cell_type": "markdown",
   "id": "409f0f4a",
   "metadata": {},
   "source": [
    "**Ödev-1:** Kullanıcıdan maaş bilgisini istenir ve bu bilgiye göre maaşından ne kadar vergi kesileceğini hesaplanır. Kullanıcının geliri;\n",
    "\n",
    "1. 10000 ve altındaysa maaşından %5 kesinti olur.\n",
    "2. 25000 ve altındaysa maaşından %10 kesinti olur.\n",
    "3. 45000 ve altındaysa maaşından %25 kesinti olur.\n",
    "4. Diğer koşullarda %30 kesinti olur.\n",
    "\n",
    "Bu durumlara göre kullanıcının yeni maaşı yazdırılır."
   ]
  },
  {
   "cell_type": "code",
   "execution_count": 1,
   "id": "5246e510",
   "metadata": {},
   "outputs": [
    {
     "name": "stdout",
     "output_type": "stream",
     "text": [
      "Initial salary :  1000\n",
      "Your net salary after 5% tax is: 950.0\n"
     ]
    }
   ],
   "source": [
    "salary = int(input(\"please enter your salary:\"))\n",
    "print(\"Initial salary : \",salary)\n",
    "\n",
    "if salary <=10000 :\n",
    "    tax_rate = 5\n",
    "elif salary <=25000 :\n",
    "     tax_rate = 10\n",
    "elif salary <= 45000 :\n",
    "      tax_rate = 25\n",
    "else :\n",
    "      tax_rate = 30\n",
    "\n",
    "net_salary = salary - (salary * tax_rate/100)\n",
    "print(f\"Your net salary after {tax_rate}% tax is: {net_salary}\")"
   ]
  },
  {
   "cell_type": "markdown",
   "id": "f5fe8798",
   "metadata": {},
   "source": [
    "**Ödev-2:** Kullanıcıdan kullanıcı adı ve şifre oluşturmasını istenir. Şifrenin uzunluğu altı haneye ulaşmışsa hesabınız oluşturuldu mesajı alınır, altı haneden azsa altı haneli şifre oluşturması gerektiğinin mesajı alınır. *(Sadece koşul kullanılması yeterli.)*"
   ]
  },
  {
   "cell_type": "code",
   "execution_count": 2,
   "id": "6acffe57",
   "metadata": {},
   "outputs": [
    {
     "name": "stdout",
     "output_type": "stream",
     "text": [
      "User name :  eyluldenizd\n",
      "Password :   abc\n",
      "Your password must be 6 digits.Please try again \n"
     ]
    }
   ],
   "source": [
    "user_name = input(\"please enter your user name :\")\n",
    "password  = input(\"please enter your password : \")\n",
    "print(\"User name : \",user_name)\n",
    "print(\"Password :  \",password)\n",
    "\n",
    "if len(password) == 6 :\n",
    "    print(\"Your account has been created\")\n",
    "else :\n",
    "    print(\"Your password must be 6 digits.Please try again \")"
   ]
  },
  {
   "cell_type": "markdown",
   "id": "aaccf11a",
   "metadata": {},
   "source": [
    "**Ödev-3:** Bir önceki örnek geliştirilir.\n",
    "\n",
    "1. Kullanıcı girdiği şifre 5 ve 10 hane arasında olmak zorunda.\n",
    "2. Eğer bu koşula uyuyorsa \"Hesabınız oluşturuldu.\" mesajı alır.\n",
    "3. Koşulu sağlamıyorsa \"Lütfen girdiniz şifre 5 haneden az 10 haneden fazla olmasın!\" uyarısı alır.\n",
    "4. Bunu oluştururken kullanıcı istediğimiz şartlarda şifre oluşturana kadar sormaya devam eder"
   ]
  },
  {
   "cell_type": "code",
   "execution_count": 3,
   "id": "039e50dc",
   "metadata": {},
   "outputs": [
    {
     "name": "stdout",
     "output_type": "stream",
     "text": [
      "User name :  eyluldenizd\n",
      "Password :   abcdefg123\n",
      "Your account has been created\n"
     ]
    }
   ],
   "source": [
    "user_name = input(\"please enter your user name :\")\n",
    "password  = input(\"please enter your password : \")\n",
    "print(\"User name : \",user_name)\n",
    "\n",
    "key = 1\n",
    "while key ==1 :\n",
    "    print(\"Password :  \",password)\n",
    "\n",
    "    if len(password)>=5 and len(password)<=10 :\n",
    "        print(\"Your account has been created\")\n",
    "        key =0\n",
    "    else :\n",
    "        print(\"Please make sure the password you entered is not less than 5 digits or more than 10 digits!\")\n",
    "        print(\"please enter your password again \")\n",
    "        password  = input(\"please enter your password again  : \")"
   ]
  },
  {
   "cell_type": "markdown",
   "id": "8ba81863",
   "metadata": {},
   "source": [
    "**Ödev-4:** Kullanıcıdan isim ve şifre isteyeceğiz ve şifre girişi için üç hak verilir.\n",
    "\n",
    "1. Eğer önceden tanımlı şifre ile kullanıcıdan gelen şifre aynıysa \"Giriş yapıldı.\" yazar.\n",
    "2. Şifre girişi yanlışsa \"Yanlış şifre girildi!\" uyarısı verilsin ve üç yanlış denemede program biter.\n",
    "3. Tercihe göre kalan hak bilgisi verilir."
   ]
  },
  {
   "cell_type": "code",
   "execution_count": 9,
   "id": "8f45ea0c",
   "metadata": {},
   "outputs": [
    {
     "name": "stdout",
     "output_type": "stream",
     "text": [
      "You have three attempts to enter your password. Be careful.\n",
      "User Name : eyluldenizd\n",
      "Password :  fxhvckhbö\n",
      "You entered the wrong password.\n",
      "please enter your password again \n",
      "You have 2 attempts left to log in.\n",
      "Password :  mh v öjbşç\n",
      "You entered the wrong password.\n",
      "please enter your password again \n",
      "You have 1 attempts left to log in.\n",
      "Password :  eylul123\n",
      "Logged in .\n"
     ]
    }
   ],
   "source": [
    "name = input(\"please enter your user name : \")\n",
    "password = input(\"please enter your password :\")\n",
    "attempts = 3\n",
    "\n",
    "print(\"You have three attempts to enter your password. Be careful.\")\n",
    "print(\"User Name :\",user_name)\n",
    "\n",
    "for i in range(attempts) :\n",
    "    try_password = input(\"please enter your password : \")\n",
    "    print(\"Password : \",try_password)\n",
    "    if password == try_password :\n",
    "        print(\"Logged in .\")\n",
    "        break\n",
    "    else :\n",
    "        print(\"You entered the wrong password.\")\n",
    "        print(\"please enter your password again \")\n",
    "        remaining__attempts = attempts - (i+1)\n",
    "        if remaining__attempts > 0 :\n",
    "          print(f\"You have {remaining__attempts} attempts left to log in.\")\n",
    "        else:\n",
    "            print(\"You have used all your attempts. Program is terminating.\")"
   ]
  }
 ],
 "metadata": {
  "kernelspec": {
   "display_name": "Python 3",
   "language": "python",
   "name": "python3"
  },
  "language_info": {
   "codemirror_mode": {
    "name": "ipython",
    "version": 3
   },
   "file_extension": ".py",
   "mimetype": "text/x-python",
   "name": "python",
   "nbconvert_exporter": "python",
   "pygments_lexer": "ipython3",
   "version": "3.12.2"
  }
 },
 "nbformat": 4,
 "nbformat_minor": 5
}
