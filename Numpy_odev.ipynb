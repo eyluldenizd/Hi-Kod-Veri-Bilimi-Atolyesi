{
 "cells": [
  {
   "cell_type": "code",
   "execution_count": 9,
   "metadata": {},
   "outputs": [],
   "source": [
    "# Ödev-1 Sayılardan oluşan bir boyutlu array oluşturulur.\n",
    "# Arrayi oluştururken sayıların veri tipini integer olarak belirtilir.\n",
    "# Oluşturulan arrayin boyut, eleman sayısı bilgilerine bakılır. "
   ]
  },
  {
   "cell_type": "code",
   "execution_count": 12,
   "metadata": {},
   "outputs": [
    {
     "name": "stdout",
     "output_type": "stream",
     "text": [
      "1\n",
      "6\n"
     ]
    }
   ],
   "source": [
    "import numpy as np\n",
    "number_array =np.array([12,7.8,34,9.2,56,3.14],dtype=\"int\")\n",
    "\n",
    "print(number_array.ndim)\n",
    "print(number_array.size)"
   ]
  },
  {
   "cell_type": "code",
   "execution_count": null,
   "metadata": {},
   "outputs": [],
   "source": [
    "# Ödev-2 İki ve üç boyutlu arrayler oluşturulur.\n",
    "# Bu arraylerin boyut, eleman sayısı, satır, sütun bilgilerine ulaşılır.\n",
    "# Arrayler üzerinde indexleme ve dilimleme(slicing) işlemi yapılır. "
   ]
  },
  {
   "cell_type": "code",
   "execution_count": 34,
   "metadata": {},
   "outputs": [
    {
     "name": "stdout",
     "output_type": "stream",
     "text": [
      "the dimension of array_2d : 2\n",
      "the dimension of array_3d : 3\n",
      "number of elements of array_2d : 6\n",
      "number of elements of array_3d : 12\n",
      "Row and column information in array_2d : (2, 3)\n",
      "Row and column information in array_3d : (2, 2, 3)\n"
     ]
    }
   ],
   "source": [
    "array_2d = np.array([[1,3,5],[7,9,11]])\n",
    "\n",
    "array_3d = np.array([[[0,2,4],[6,8,10]],\n",
    "                    [[12,14,16],[18,20,22]]])\n",
    "\n",
    "print(\"the dimension of array_2d :\",array_2d.ndim)\n",
    "\n",
    "print(\"the dimension of array_3d :\",array_3d.ndim)\n",
    "\n",
    "print(\"number of elements of array_2d :\",array_2d.size)\n",
    "\n",
    "print(\"number of elements of array_3d :\",array_3d.size)\n",
    "\n",
    "print(\"Row and column information in array_2d :\",np.shape(array_2d))\n",
    "\n",
    "print(\"Row and column information in array_3d :\",np.shape(array_3d))\n"
   ]
  },
  {
   "cell_type": "code",
   "execution_count": 24,
   "metadata": {},
   "outputs": [],
   "source": [
    "array_2d = np.array([[1,3,5],[7,9,11]])\n",
    "\n",
    "array_3d = np.array([[[0,2,4],[6,8,10]],\n",
    "                    [[12,14,16],[18,20,22]]])"
   ]
  },
  {
   "cell_type": "code",
   "execution_count": 31,
   "metadata": {},
   "outputs": [
    {
     "name": "stdout",
     "output_type": "stream",
     "text": [
      "11\n",
      "3\n",
      "14\n",
      "8\n"
     ]
    }
   ],
   "source": [
    "print(array_2d[1,2])\n",
    "print(array_2d[0,1])\n",
    "\n",
    "print(array_3d[1,0,1])\n",
    "print(array_3d[0,1,1])"
   ]
  },
  {
   "cell_type": "code",
   "execution_count": null,
   "metadata": {},
   "outputs": [],
   "source": [
    "array_2d = np.array([[1,3,5],[7,9,11]])\n",
    "\n",
    "array_3d = np.array([[[0,2,4],[6,8,10]],\n",
    "                    [[12,14,16],[18,20,22]]])"
   ]
  },
  {
   "cell_type": "code",
   "execution_count": 33,
   "metadata": {},
   "outputs": [
    {
     "name": "stdout",
     "output_type": "stream",
     "text": [
      "[1 3 5]\n",
      "[3 9]\n",
      "[[ 9 11]]\n",
      " \n",
      "[[ 0  2  4]\n",
      " [ 6  8 10]]\n",
      "[[ 0  2  4]\n",
      " [12 14 16]]\n",
      "[18 20 22]\n"
     ]
    }
   ],
   "source": [
    "print(array_2d[0, :])  \n",
    "print(array_2d[:, 1]) \n",
    "print(array_2d[1:, 1:]) \n",
    "print(\" \")\n",
    "print(array_3d[0, :, :])  \n",
    "print(array_3d[:, 0, :])  \n",
    "print(array_3d[1, 1, :]) "
   ]
  },
  {
   "cell_type": "code",
   "execution_count": null,
   "metadata": {},
   "outputs": [],
   "source": [
    "# Ödev-3 Numpy fonksiyonu kullanarak bir, iki ve üç boyutlu arrayler oluşturulur. \n",
    "# Arrayler üzerinde indexleme ve dilimleme(slicing) işlemi yapılır "
   ]
  },
  {
   "cell_type": "code",
   "execution_count": 36,
   "metadata": {},
   "outputs": [
    {
     "name": "stdout",
     "output_type": "stream",
     "text": [
      "array of one dimension : [2 4 6 8]\n",
      " \n",
      "array of two dimension : [[1 2 3]\n",
      " [4 5 6]\n",
      " [7 8 9]]\n",
      " \n",
      "array of three dimension : [[[1 2 3]\n",
      "  [4 5 6]\n",
      "  [7 8 9]]]\n"
     ]
    }
   ],
   "source": [
    "import numpy as np\n",
    "\n",
    "d1_array =np.array ([2,4,6,8])\n",
    "print(\"array of one dimension :\",d1_array)\n",
    "print(\" \")\n",
    "\n",
    "d2_array = np.array([[1, 2, 3],\n",
    "                     [4, 5, 6],\n",
    "                     [7, 8, 9]])\n",
    "print(\"array of two dimension :\",d2_array)\n",
    "print(\" \")\n",
    "\n",
    "d3_array = np.array ([[[1, 2, 3],\n",
    "                     [4, 5, 6],\n",
    "                     [7, 8, 9]]])\n",
    "print(\"array of three dimension :\",d3_array)\n"
   ]
  },
  {
   "cell_type": "code",
   "execution_count": 37,
   "metadata": {},
   "outputs": [
    {
     "name": "stdout",
     "output_type": "stream",
     "text": [
      "2\n",
      "8\n",
      " \n",
      "[2 4 6 8]\n",
      "[4 6 8]\n"
     ]
    }
   ],
   "source": [
    "d1_array =np.array ([2,4,6,8])\n",
    "\n",
    "print(d1_array[0])\n",
    "print(d1_array[3])\n",
    "\n",
    "print(\" \")\n",
    "\n",
    "print(d1_array[0:])\n",
    "print(d1_array[1:4])"
   ]
  },
  {
   "cell_type": "code",
   "execution_count": 38,
   "metadata": {},
   "outputs": [
    {
     "name": "stdout",
     "output_type": "stream",
     "text": [
      "3\n",
      "9\n",
      "6\n",
      " \n",
      "[[2]\n",
      " [5]]\n",
      "[[1 3]\n",
      " [7 9]]\n"
     ]
    }
   ],
   "source": [
    "d2_array = np.array([[1, 2, 3],\n",
    "                     [4, 5, 6],\n",
    "                     [7, 8, 9]])\n",
    "\n",
    "print(d2_array[0,2])\n",
    "print(d2_array[2,2])\n",
    "print(d2_array[1,2])\n",
    "print(\" \")\n",
    "print(d2_array[0:2,1:2])\n",
    "print(d2_array[::2, ::2])"
   ]
  },
  {
   "cell_type": "code",
   "execution_count": 43,
   "metadata": {},
   "outputs": [
    {
     "name": "stdout",
     "output_type": "stream",
     "text": [
      "8\n",
      "5\n",
      "7\n",
      " \n",
      "[[4 5]\n",
      " [7 8]]\n",
      "[[1 2 3]\n",
      " [4 5 6]\n",
      " [7 8 9]]\n"
     ]
    }
   ],
   "source": [
    "d3_array = np.array ([[[1, 2, 3],\n",
    "                     [4, 5, 6],\n",
    "                     [7, 8, 9]]])\n",
    "\n",
    "print(d3_array[0,2,1])\n",
    "print(d3_array[0,1,1])\n",
    "print(d3_array[0,2,0])\n",
    "print(\" \")\n",
    "print(d3_array[0, 1:3, 0:2])\n",
    "print(d3_array[0, :, :])"
   ]
  },
  {
   "cell_type": "code",
   "execution_count": null,
   "metadata": {},
   "outputs": [],
   "source": [
    "# Ödev-4 Sıfırlardan oluşan ve birlerden oluşan iki tane iki boyutlu array oluşturulur. Bu arrayler satır ve sütun bazında birleştirilir. "
   ]
  },
  {
   "cell_type": "code",
   "execution_count": 55,
   "metadata": {},
   "outputs": [
    {
     "data": {
      "text/plain": [
       "array([[0, 0, 0],\n",
       "       [0, 0, 0]])"
      ]
     },
     "execution_count": 55,
     "metadata": {},
     "output_type": "execute_result"
    }
   ],
   "source": [
    "zeros_array = np.zeros((2,3),dtype=\"int\")\n",
    "ones_array = np.ones((2,3),dtype=\"int\")\n",
    "\n",
    "zeros_array"
   ]
  },
  {
   "cell_type": "code",
   "execution_count": 56,
   "metadata": {},
   "outputs": [
    {
     "data": {
      "text/plain": [
       "array([[1, 1, 1],\n",
       "       [1, 1, 1]])"
      ]
     },
     "execution_count": 56,
     "metadata": {},
     "output_type": "execute_result"
    }
   ],
   "source": [
    "ones_array"
   ]
  },
  {
   "cell_type": "code",
   "execution_count": 59,
   "metadata": {},
   "outputs": [
    {
     "name": "stdout",
     "output_type": "stream",
     "text": [
      "the concatenate of rows: [[0 0 0]\n",
      " [0 0 0]\n",
      " [1 1 1]\n",
      " [1 1 1]]\n",
      " \n",
      "the concatenate of columns: [[0 0 0 1 1 1]\n",
      " [0 0 0 1 1 1]]\n"
     ]
    }
   ],
   "source": [
    "row_concatenate = np.concatenate((zeros_array, ones_array), axis=0)\n",
    "column_concatenate =np.concatenate((zeros_array, ones_array), axis=1)\n",
    "\n",
    "print(\"the concatenate of rows:\",row_concatenate)\n",
    "print(\" \")\n",
    "print(\"the concatenate of columns:\",column_concatenate)"
   ]
  }
 ],
 "metadata": {
  "kernelspec": {
   "display_name": "Python 3",
   "language": "python",
   "name": "python3"
  },
  "language_info": {
   "codemirror_mode": {
    "name": "ipython",
    "version": 3
   },
   "file_extension": ".py",
   "mimetype": "text/x-python",
   "name": "python",
   "nbconvert_exporter": "python",
   "pygments_lexer": "ipython3",
   "version": "3.12.3"
  }
 },
 "nbformat": 4,
 "nbformat_minor": 2
}
